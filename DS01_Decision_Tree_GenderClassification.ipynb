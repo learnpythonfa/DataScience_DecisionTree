{
  "nbformat": 4,
  "nbformat_minor": 0,
  "metadata": {
    "colab": {
      "name": "DS01_Decision_Tree_GenderClassification.ipynb",
      "provenance": [],
      "collapsed_sections": []
    },
    "kernelspec": {
      "name": "python3",
      "display_name": "Python 3"
    }
  },
  "cells": [
    {
      "cell_type": "code",
      "metadata": {
        "id": "g7vSBfln01AX",
        "colab_type": "code",
        "colab": {
          "base_uri": "https://localhost:8080/",
          "height": 70
        },
        "outputId": "a529d67d-5c49-4388-bc34-f142c35739ae"
      },
      "source": [
        "# !pip install scikit-learn\n",
        "from sklearn import tree\n",
        "\n",
        "clf = tree.DecisionTreeClassifier()\n",
        "\n",
        "# data\n",
        "# [[height,weight,shoe_size],[],[]]\n",
        "X = [ [181, 80, 44], [177, 70, 43], [160, 60, 38], [154, 54, 37], [166, 65, 40],\n",
        "     [190, 90, 47], [175, 64, 39],\n",
        "     [177, 70, 40], [159, 55, 37], [171, 75, 42], [181, 85, 43] ]\n",
        "\n",
        "Y = ['male', 'male', 'female', 'female', 'male', 'male', 'female', 'female',\n",
        "     'female', 'male', 'male']\n",
        "print(len(X),len(Y))\n",
        "clf.fit(X,Y)\n",
        "print(clf.predict([[184,89,45]]))\n",
        "print(clf.predict([[165,55,37]]))"
      ],
      "execution_count": 9,
      "outputs": [
        {
          "output_type": "stream",
          "text": [
            "11 11\n",
            "['male']\n",
            "['female']\n"
          ],
          "name": "stdout"
        }
      ]
    },
    {
      "cell_type": "markdown",
      "metadata": {
        "id": "PxajSzEh4biU",
        "colab_type": "text"
      },
      "source": [
        "## challenge\n",
        "https://www.kaggle.com/uciml/breast-cancer-wisconsin-data"
      ]
    },
    {
      "cell_type": "markdown",
      "metadata": {
        "id": "sxLSSjWL1LKu",
        "colab_type": "text"
      },
      "source": [
        "\n"
      ]
    }
  ]
}